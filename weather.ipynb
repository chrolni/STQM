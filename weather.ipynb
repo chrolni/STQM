{
 "cells": [
  {
   "cell_type": "code",
   "execution_count": 1,
   "id": "026e47cc-6b0e-4e44-9e44-a5de9e12fed7",
   "metadata": {},
   "outputs": [
    {
     "data": {
      "text/plain": [
       "array([[69.2, 65. , 67.4, ..., 69.4, 68.4, 65. ],\n",
       "       [69. , 64.5, 66. , ..., 69.2, 68.2, 64.8],\n",
       "       [68.9, 64.8, 66.7, ..., 69.1, 68.5, 65.1],\n",
       "       ...,\n",
       "       [69. , 65.1, 65.9, ..., 69.2, 68. , 65. ],\n",
       "       [69. , 64.7, 67. , ..., 69.3, 67.8, 64.8],\n",
       "       [69. , 65.6, 66.3, ..., 69.3, 67.9, 64.9]])"
      ]
     },
     "execution_count": 1,
     "metadata": {},
     "output_type": "execute_result"
    }
   ],
   "source": [
    "import h5py\n",
    "import numpy as np\n",
    "import pandas as pd\n",
    "import pickle\n",
    "\n",
    "f = np.load('Data/bay/pems-bay-20.npy')\n",
    "f"
   ]
  },
  {
   "cell_type": "code",
   "execution_count": 2,
   "id": "174183d3-6f57-426d-8c22-5012db7e8fe0",
   "metadata": {},
   "outputs": [
    {
     "data": {
      "text/plain": [
       "(5760, 319)"
      ]
     },
     "execution_count": 2,
     "metadata": {},
     "output_type": "execute_result"
    }
   ],
   "source": [
    "f.shape"
   ]
  },
  {
   "cell_type": "code",
   "execution_count": 3,
   "id": "0c9acf5b-a4be-4adb-a62d-61ab6bac635b",
   "metadata": {},
   "outputs": [
    {
     "data": {
      "text/html": [
       "<div>\n",
       "<style scoped>\n",
       "    .dataframe tbody tr th:only-of-type {\n",
       "        vertical-align: middle;\n",
       "    }\n",
       "\n",
       "    .dataframe tbody tr th {\n",
       "        vertical-align: top;\n",
       "    }\n",
       "\n",
       "    .dataframe thead th {\n",
       "        text-align: right;\n",
       "    }\n",
       "</style>\n",
       "<table border=\"1\" class=\"dataframe\">\n",
       "  <thead>\n",
       "    <tr style=\"text-align: right;\">\n",
       "      <th></th>\n",
       "      <th>sensor_id</th>\n",
       "      <th>latitude</th>\n",
       "      <th>longitude</th>\n",
       "      <th>segment</th>\n",
       "      <th>abs</th>\n",
       "    </tr>\n",
       "  </thead>\n",
       "  <tbody>\n",
       "    <tr>\n",
       "      <th>0</th>\n",
       "      <td>400001</td>\n",
       "      <td>37.364085</td>\n",
       "      <td>-121.901149</td>\n",
       "      <td>US101-N</td>\n",
       "      <td>387.90</td>\n",
       "    </tr>\n",
       "    <tr>\n",
       "      <th>1</th>\n",
       "      <td>400017</td>\n",
       "      <td>37.253303</td>\n",
       "      <td>-121.945440</td>\n",
       "      <td>SR85-S</td>\n",
       "      <td>10.07</td>\n",
       "    </tr>\n",
       "    <tr>\n",
       "      <th>2</th>\n",
       "      <td>400030</td>\n",
       "      <td>37.359087</td>\n",
       "      <td>-121.906538</td>\n",
       "      <td>I880-S</td>\n",
       "      <td>3.64</td>\n",
       "    </tr>\n",
       "    <tr>\n",
       "      <th>3</th>\n",
       "      <td>400040</td>\n",
       "      <td>37.294949</td>\n",
       "      <td>-121.873109</td>\n",
       "      <td>SR87-S</td>\n",
       "      <td>2.86</td>\n",
       "    </tr>\n",
       "    <tr>\n",
       "      <th>4</th>\n",
       "      <td>400045</td>\n",
       "      <td>37.363402</td>\n",
       "      <td>-121.902233</td>\n",
       "      <td>I880-N</td>\n",
       "      <td>4.02</td>\n",
       "    </tr>\n",
       "    <tr>\n",
       "      <th>...</th>\n",
       "      <td>...</td>\n",
       "      <td>...</td>\n",
       "      <td>...</td>\n",
       "      <td>...</td>\n",
       "      <td>...</td>\n",
       "    </tr>\n",
       "    <tr>\n",
       "      <th>320</th>\n",
       "      <td>413845</td>\n",
       "      <td>37.422887</td>\n",
       "      <td>-121.925747</td>\n",
       "      <td>SR237-W</td>\n",
       "      <td>8.85</td>\n",
       "    </tr>\n",
       "    <tr>\n",
       "      <th>321</th>\n",
       "      <td>413877</td>\n",
       "      <td>37.321613</td>\n",
       "      <td>-121.899642</td>\n",
       "      <td>I280-N</td>\n",
       "      <td>2.97</td>\n",
       "    </tr>\n",
       "    <tr>\n",
       "      <th>322</th>\n",
       "      <td>413878</td>\n",
       "      <td>37.324641</td>\n",
       "      <td>-121.888603</td>\n",
       "      <td>I280-N?</td>\n",
       "      <td>2.32</td>\n",
       "    </tr>\n",
       "    <tr>\n",
       "      <th>323</th>\n",
       "      <td>414284</td>\n",
       "      <td>37.323066</td>\n",
       "      <td>-121.896538</td>\n",
       "      <td>I280-N</td>\n",
       "      <td>2.77</td>\n",
       "    </tr>\n",
       "    <tr>\n",
       "      <th>324</th>\n",
       "      <td>414694</td>\n",
       "      <td>37.315051</td>\n",
       "      <td>-121.913497</td>\n",
       "      <td>I280-N</td>\n",
       "      <td>3.91</td>\n",
       "    </tr>\n",
       "  </tbody>\n",
       "</table>\n",
       "<p>319 rows × 5 columns</p>\n",
       "</div>"
      ],
      "text/plain": [
       "     sensor_id   latitude   longitude  segment     abs\n",
       "0       400001  37.364085 -121.901149  US101-N  387.90\n",
       "1       400017  37.253303 -121.945440   SR85-S   10.07\n",
       "2       400030  37.359087 -121.906538   I880-S    3.64\n",
       "3       400040  37.294949 -121.873109   SR87-S    2.86\n",
       "4       400045  37.363402 -121.902233   I880-N    4.02\n",
       "..         ...        ...         ...      ...     ...\n",
       "320     413845  37.422887 -121.925747  SR237-W    8.85\n",
       "321     413877  37.321613 -121.899642   I280-N    2.97\n",
       "322     413878  37.324641 -121.888603  I280-N?    2.32\n",
       "323     414284  37.323066 -121.896538   I280-N    2.77\n",
       "324     414694  37.315051 -121.913497   I280-N    3.91\n",
       "\n",
       "[319 rows x 5 columns]"
      ]
     },
     "execution_count": 3,
     "metadata": {},
     "output_type": "execute_result"
    }
   ],
   "source": [
    "df_sensors = pd.read_csv('Data/bay/graph_sensor_locations_bay.csv')\n",
    "# 要删除的sensor_id列表\n",
    "sensor_ids_to_remove = [401495, 402369, 402288, 402368, 402289, 404554]\n",
    "\n",
    "# 使用isin方法和布尔索引来删除这些sensor_id\n",
    "df_sensors = df_sensors[~df_sensors['sensor_id'].isin(sensor_ids_to_remove)]\n",
    "df_sensors"
   ]
  },
  {
   "cell_type": "code",
   "execution_count": 4,
   "id": "ec8f3996-39a7-4a98-971a-33cd1293853c",
   "metadata": {},
   "outputs": [
    {
     "name": "stdout",
     "output_type": "stream",
     "text": [
      "weather_data_KSJC:                      Date_Time  weather_code\n",
      "0    2022-01-01 00:00:00+00:00           2.0\n",
      "1    2022-01-01 00:05:00+00:00           2.0\n",
      "2    2022-01-01 00:10:00+00:00           2.0\n",
      "3    2022-01-01 00:15:00+00:00           2.0\n",
      "4    2022-01-01 00:20:00+00:00           2.0\n",
      "...                        ...           ...\n",
      "5755 2022-01-20 23:35:00+00:00           2.0\n",
      "5756 2022-01-20 23:40:00+00:00           2.0\n",
      "5757 2022-01-20 23:45:00+00:00           2.0\n",
      "5758 2022-01-20 23:50:00+00:00           2.0\n",
      "5759 2022-01-20 23:55:00+00:00           2.0\n",
      "\n",
      "[5760 rows x 2 columns]\n"
     ]
    },
    {
     "name": "stderr",
     "output_type": "stream",
     "text": [
      "/tmp/ipykernel_1515/264023391.py:28: FutureWarning: 'T' is deprecated and will be removed in a future version, please use 'min' instead.\n",
      "  time_range = pd.date_range(weather_df['Date_Time'].min(),\n",
      "/tmp/ipykernel_1515/264023391.py:36: FutureWarning: Series.fillna with 'method' is deprecated and will raise in a future version. Use obj.ffill() or obj.bfill() instead.\n",
      "  merged_df[column] = merged_df[column].fillna(method='ffill')\n"
     ]
    }
   ],
   "source": [
    "import numpy as np\n",
    "import pandas as pd\n",
    "from scipy.spatial import distance\n",
    "\n",
    "def process_weather_data(df_sensors, weather_stations_data, station_file):\n",
    "    # 定义天气站点位置\n",
    "    weather_stations = np.array(weather_stations_data)\n",
    "    \n",
    "    # 计算距离并分配最近的天气站点\n",
    "    sensors_coords = df_sensors[['latitude', 'longitude']].values\n",
    "    distances = distance.cdist(sensors_coords, weather_stations, metric='euclidean')\n",
    "    closest_station_indices = distances.argmin(axis=1)\n",
    "    \n",
    "    # 将索引转换为天气站点名称\n",
    "    station_names = ['KSJC']\n",
    "    closest_stations = [station_names[i] for i in closest_station_indices]\n",
    "    df_sensors['最接近的天气站点'] = closest_stations\n",
    "    \n",
    "    # 处理天气站点数据\n",
    "    weather_df = pd.read_csv(station_file)\n",
    "    weather_df = weather_df[['Station_ID', 'Date_Time', 'weather_summary_set_1d']]\n",
    "    \n",
    "    # 转换时间格式并重采样\n",
    "    weather_df['Date_Time'] = pd.to_datetime(weather_df['Date_Time'], format='%m/%d/%Y %H:%M %Z')\n",
    "    weather_df = weather_df[weather_df['Date_Time'].dt.minute.isin(range(0, 60, 5))]\n",
    "    \n",
    "    # 创建完整的时间序列并填充缺失值\n",
    "    time_range = pd.date_range(weather_df['Date_Time'].min(), \n",
    "                             weather_df['Date_Time'].max(), \n",
    "                             freq='5T')\n",
    "    complete_df = pd.DataFrame({'Date_Time': time_range})\n",
    "    merged_df = pd.merge(complete_df, weather_df, on='Date_Time', how='left')\n",
    "    \n",
    "    # 填充缺失值\n",
    "    for column in weather_df.columns[1:]:\n",
    "        merged_df[column] = merged_df[column].fillna(method='ffill')\n",
    "    \n",
    "    # 天气编码映射\n",
    "    weather_codes = {\n",
    "        \"broken\": 1,\n",
    "        \"clear\": 2,\n",
    "        \"haze\": 3,\n",
    "        \"light rain\": 4,\n",
    "        \"mist\": 5,\n",
    "        \"overcast\": 6,\n",
    "        \"scattered\": 7,\n",
    "        \"thin scattered\": 8\n",
    "    }\n",
    "    \n",
    "    # 转换天气描述为编码\n",
    "    merged_df['weather_code'] = merged_df['weather_summary_set_1d'].map(weather_codes)\n",
    "    \n",
    "    # 提取所需时间段的天气数据\n",
    "    weather_data = merged_df.loc[:5759, ['Date_Time', 'weather_code']]\n",
    "    \n",
    "    return df_sensors, weather_data\n",
    "\n",
    "# 使用示例:\n",
    "\n",
    "weather_stations_data = [\n",
    "    [37.35917, -121.92417]  # KSJC\n",
    "]\n",
    "\n",
    "df_sensors_KSJC, weather_data_KSJC = process_weather_data(df_sensors, \n",
    "                                              weather_stations_data, \n",
    "                                              'Data/bay/KSJC.csv')\n",
    "print('weather_data_KSJC:',weather_data_KSJC)\n",
    "\n",
    "# df_sensors_KLAX, weather_data_KLAX = process_weather_data(df_sensors, \n",
    "#                                               weather_stations_data, \n",
    "#                                               'Data/I405/KLAX_values.csv')\n",
    "# print('weather_data_KLAX:',weather_data_KLAX)\n",
    "\n",
    "# df_sensors_KLGB, weather_data_KLGB = process_weather_data(df_sensors, \n",
    "#                                               weather_stations_data, \n",
    "#                                               'Data/I405/KLGB_values.csv')\n",
    "# print('weather_data_KLGB:',weather_data_KLGB)\n",
    "\n",
    "# df_sensors_KSMO, weather_data_KSMO = process_weather_data(df_sensors, \n",
    "#                                               weather_stations_data, \n",
    "#                                               'Data/I405/KSMO_values.csv')\n",
    "# print('weather_data_KSMO:',weather_data_KSMO)\n",
    "\n"
   ]
  },
  {
   "cell_type": "code",
   "execution_count": 5,
   "id": "9bbe9423-f9f3-4826-bb8e-da3aba6a53fd",
   "metadata": {},
   "outputs": [
    {
     "name": "stdout",
     "output_type": "stream",
     "text": [
      "     sensor_id   latitude   longitude  segment     abs 最接近的天气站点\n",
      "0       400001  37.364085 -121.901149  US101-N  387.90     KSJC\n",
      "1       400017  37.253303 -121.945440   SR85-S   10.07     KSJC\n",
      "2       400030  37.359087 -121.906538   I880-S    3.64     KSJC\n",
      "3       400040  37.294949 -121.873109   SR87-S    2.86     KSJC\n",
      "4       400045  37.363402 -121.902233   I880-N    4.02     KSJC\n",
      "..         ...        ...         ...      ...     ...      ...\n",
      "320     413845  37.422887 -121.925747  SR237-W    8.85     KSJC\n",
      "321     413877  37.321613 -121.899642   I280-N    2.97     KSJC\n",
      "322     413878  37.324641 -121.888603  I280-N?    2.32     KSJC\n",
      "323     414284  37.323066 -121.896538   I280-N    2.77     KSJC\n",
      "324     414694  37.315051 -121.913497   I280-N    3.91     KSJC\n",
      "\n",
      "[319 rows x 6 columns]\n"
     ]
    }
   ],
   "source": [
    "# 更新后的天气站点数据\n",
    "weather_stations = [\n",
    "    np.array([37.35917, -121.92417])  # KSJC\n",
    "    \n",
    "]\n",
    "\n",
    "\n",
    "# 将传感器站点的经纬度转换为数组形式\n",
    "sensors_coords = df_sensors[['latitude', 'longitude']].values\n",
    "\n",
    "# 计算每个传感器站点与每个天气站点之间的距离\n",
    "distances = distance.cdist(sensors_coords, weather_stations, metric='euclidean')\n",
    "\n",
    "# 找到每个传感器站点最近的一个天气站点的索引\n",
    "closest_station_indices = distances.argmin(axis=1)\n",
    "\n",
    "# 将索引转换为天气站点名称或编号\n",
    "closest_stations = ['KSJC' for i in closest_station_indices]\n",
    "\n",
    "# 将结果添加到DataFrame中\n",
    "df_sensors['最接近的天气站点'] = closest_stations\n",
    "\n",
    "print(df_sensors)"
   ]
  },
  {
   "cell_type": "code",
   "execution_count": 6,
   "id": "d29bdbf9-8f35-43bf-8aa8-27a99f3f9c26",
   "metadata": {},
   "outputs": [
    {
     "name": "stdout",
     "output_type": "stream",
     "text": [
      "[[2. 2. 2. ... 2. 2. 2.]\n",
      " [2. 2. 2. ... 2. 2. 2.]\n",
      " [2. 2. 2. ... 2. 2. 2.]\n",
      " ...\n",
      " [2. 2. 2. ... 2. 2. 2.]\n",
      " [2. 2. 2. ... 2. 2. 2.]\n",
      " [2. 2. 2. ... 2. 2. 2.]]\n"
     ]
    }
   ],
   "source": [
    "# 创建一个空字典来存储每个VDS的时间序列\n",
    "time_series_dict = {}\n",
    "\n",
    "# 为每个VDS填充对应的天气代码\n",
    "for index, row in df_sensors.iterrows():\n",
    "    vds = row['sensor_id']\n",
    "    closest_station = row['最接近的天气站点']\n",
    "    \n",
    "    # 根据最接近的天气站点选择数据\n",
    "    if closest_station == 'KSJC':\n",
    "        weather_data = weather_data_KSJC\n",
    "    # elif closest_station == 'KLAX':\n",
    "    #     weather_data = weather_data_KLAX\n",
    "    # elif closest_station == 'KLGB':\n",
    "    #     weather_data = weather_data_KLGB\n",
    "    # elif closest_station == 'KSMO':\n",
    "    #     weather_data = weather_data_KSMO\n",
    "    else:\n",
    "        print('没有对应的气象站点')\n",
    "        continue  # 如果没有匹配的天气站点，跳过这个VDS\n",
    "    \n",
    "    # 将天气代码填充到字典中\n",
    "    time_series_dict[vds] = weather_data['weather_code'].values\n",
    "\n",
    "# 将字典转换为二维numpy数组\n",
    "num_vds = len(df_sensors)\n",
    "num_time_steps = len(weather_data['Date_Time'])\n",
    "weather_matrix = np.full((num_vds, num_time_steps), np.nan)  # 使用NaN初始化数组\n",
    "\n",
    "# 填充数组\n",
    "for vds, time_series in time_series_dict.items():\n",
    "    vds_index = np.where(df_sensors['sensor_id'] == vds)[0][0]  # 获取VDS的索引\n",
    "    weather_matrix[vds_index, :] = time_series\n",
    "\n",
    "# 输出二维数组\n",
    "print(weather_matrix)"
   ]
  },
  {
   "cell_type": "code",
   "execution_count": 7,
   "id": "1df3189c-6195-45fc-be6f-5094f380d8a7",
   "metadata": {},
   "outputs": [
    {
     "data": {
      "text/plain": [
       "(319, 5760)"
      ]
     },
     "execution_count": 7,
     "metadata": {},
     "output_type": "execute_result"
    }
   ],
   "source": [
    "weather_matrix.shape"
   ]
  },
  {
   "cell_type": "code",
   "execution_count": 8,
   "id": "e420ddbe-50cd-4ef6-a419-bbc3098e45df",
   "metadata": {},
   "outputs": [],
   "source": [
    "# weather_matrix = weather_matrix.T\n",
    "# weather_matrix"
   ]
  },
  {
   "cell_type": "code",
   "execution_count": 9,
   "id": "8409be27-6829-4e68-a2da-cfa7820c395c",
   "metadata": {},
   "outputs": [
    {
     "name": "stdout",
     "output_type": "stream",
     "text": [
      "\n",
      "NaN值和负值的位置: (array([], dtype=int64), array([], dtype=int64))\n",
      "\n",
      "填充后的数组:\n",
      "[[2. 2. 2. ... 2. 2. 2.]\n",
      " [2. 2. 2. ... 2. 2. 2.]\n",
      " [2. 2. 2. ... 2. 2. 2.]\n",
      " ...\n",
      " [2. 2. 2. ... 2. 2. 2.]\n",
      " [2. 2. 2. ... 2. 2. 2.]\n",
      " [2. 2. 2. ... 2. 2. 2.]]\n"
     ]
    }
   ],
   "source": [
    "# 找到NaN值和负值的位置并打印\n",
    "nan_or_negative_indices = np.where((weather_matrix != np.nan) & (weather_matrix <= 0))\n",
    "print(\"\\nNaN值和负值的位置:\",nan_or_negative_indices)\n",
    "for pos in zip(*nan_or_negative_indices):\n",
    "    print(f\"行 {pos[0] + 1}, 列 {pos[1] + 1}\")\n",
    "\n",
    "# 用左边的数值填充NaN值和负值，如果左边是nan，则继续往左\n",
    "for i in range(weather_matrix.shape[0]):\n",
    "    for j in range(weather_matrix.shape[1]):\n",
    "        if np.isnan(weather_matrix[i, j]) or weather_matrix[i, j] < 0:\n",
    "            # 从左边查找有效值\n",
    "            left_valid = j - 1\n",
    "            while left_valid >= 0 and np.isnan(weather_matrix[i, left_valid]) or weather_matrix[i, left_valid] < 0:\n",
    "                left_valid -= 1\n",
    "            \n",
    "            # 如果左边没有有效值，则从右边查找\n",
    "            if left_valid < 0:\n",
    "                right_valid = j + 1\n",
    "                while right_valid < weather_matrix.shape[1] and np.isnan(weather_matrix[i, right_valid]) or weather_matrix[i, right_valid] < 0:\n",
    "                    right_valid += 1\n",
    "                if right_valid < weather_matrix.shape[1]:  # 找到了右边的有效值\n",
    "                    weather_matrix[i, j] = weather_matrix[i, right_valid]\n",
    "            else:  # 找到了左边的有效值\n",
    "                weather_matrix[i, j] = weather_matrix[i, left_valid]\n",
    "\n",
    "# 打印填充后的数组\n",
    "print(\"\\n填充后的数组:\")\n",
    "print(weather_matrix)"
   ]
  },
  {
   "cell_type": "code",
   "execution_count": 10,
   "id": "5edc71e9-14c0-4e54-9aa9-9881d68b9557",
   "metadata": {},
   "outputs": [
    {
     "data": {
      "text/plain": [
       "array([[2., 2., 2., ..., 2., 2., 2.],\n",
       "       [2., 2., 2., ..., 2., 2., 2.],\n",
       "       [2., 2., 2., ..., 2., 2., 2.],\n",
       "       ...,\n",
       "       [2., 2., 2., ..., 2., 2., 2.],\n",
       "       [2., 2., 2., ..., 2., 2., 2.],\n",
       "       [2., 2., 2., ..., 2., 2., 2.]])"
      ]
     },
     "execution_count": 10,
     "metadata": {},
     "output_type": "execute_result"
    }
   ],
   "source": [
    "weather_matrix"
   ]
  },
  {
   "cell_type": "code",
   "execution_count": 11,
   "id": "1312c625-aebc-488f-b0cd-ff2a7a559c4d",
   "metadata": {},
   "outputs": [
    {
     "data": {
      "text/plain": [
       "(319, 5760)"
      ]
     },
     "execution_count": 11,
     "metadata": {},
     "output_type": "execute_result"
    }
   ],
   "source": [
    "weather_matrix.shape"
   ]
  },
  {
   "cell_type": "code",
   "execution_count": 12,
   "id": "43598ee8-7f2b-4023-bc58-7f5329b5f8d8",
   "metadata": {},
   "outputs": [],
   "source": [
    "np.save('Data/bay/weather-20',weather_matrix)"
   ]
  },
  {
   "cell_type": "code",
   "execution_count": 13,
   "id": "bc8ff12a-92d2-4e72-b2af-9abaf480aa1d",
   "metadata": {},
   "outputs": [
    {
     "name": "stdout",
     "output_type": "stream",
     "text": [
      "数组中是否有NaN值: False\n",
      "数组中是否有负值: False\n"
     ]
    }
   ],
   "source": [
    "# 检查数组中是否有NaN值\n",
    "has_nan = np.isnan(weather_matrix).any()\n",
    "\n",
    "# 检查数组中是否有负值\n",
    "has_negative = (weather_matrix < 0).any()\n",
    "\n",
    "print(\"数组中是否有NaN值:\", has_nan)\n",
    "print(\"数组中是否有负值:\", has_negative)"
   ]
  },
  {
   "cell_type": "code",
   "execution_count": 14,
   "id": "98649187-bce9-44e6-a7dc-56da07cb01c6",
   "metadata": {},
   "outputs": [
    {
     "data": {
      "text/plain": [
       "(319, 5760)"
      ]
     },
     "execution_count": 14,
     "metadata": {},
     "output_type": "execute_result"
    }
   ],
   "source": [
    "weather_matrix.shape"
   ]
  },
  {
   "cell_type": "code",
   "execution_count": 15,
   "id": "6f1ce239-41ac-4812-94cb-06d6449bc426",
   "metadata": {},
   "outputs": [
    {
     "data": {
      "text/plain": [
       "array([], shape=(0, 5760), dtype=float64)"
      ]
     },
     "execution_count": 15,
     "metadata": {},
     "output_type": "execute_result"
    }
   ],
   "source": [
    "weather_matrix[974:977,:]"
   ]
  },
  {
   "cell_type": "code",
   "execution_count": 16,
   "id": "ec601aa6-fd0c-4ced-a1d9-278a00a04b4e",
   "metadata": {},
   "outputs": [
    {
     "data": {
      "text/plain": [
       "array([[2., 2., 2., ..., 2., 2., 2.],\n",
       "       [2., 2., 2., ..., 2., 2., 2.],\n",
       "       [2., 2., 2., ..., 2., 2., 2.],\n",
       "       ...,\n",
       "       [2., 2., 2., ..., 2., 2., 2.],\n",
       "       [2., 2., 2., ..., 2., 2., 2.],\n",
       "       [2., 2., 2., ..., 2., 2., 2.]])"
      ]
     },
     "execution_count": 16,
     "metadata": {},
     "output_type": "execute_result"
    }
   ],
   "source": [
    "weather_matrix[:,0:324]"
   ]
  },
  {
   "cell_type": "code",
   "execution_count": 17,
   "id": "e4bc6f26-2f3f-4532-a242-01fb47d750f4",
   "metadata": {},
   "outputs": [
    {
     "data": {
      "text/plain": [
       "(array([], dtype=int64), array([], dtype=int64))"
      ]
     },
     "execution_count": 17,
     "metadata": {},
     "output_type": "execute_result"
    }
   ],
   "source": [
    "# 找出NaN值的位置\n",
    "nan_positions = np.where(np.isnan(weather_matrix))\n",
    "nan_positions"
   ]
  },
  {
   "cell_type": "code",
   "execution_count": 18,
   "id": "5ab41549-7463-4f67-8611-d3da6f00b9fd",
   "metadata": {
    "scrolled": true
   },
   "outputs": [
    {
     "name": "stdout",
     "output_type": "stream",
     "text": [
      "\n",
      "NaN值的位置: (array([], dtype=int64), array([], dtype=int64))\n"
     ]
    }
   ],
   "source": [
    "import numpy as np\n",
    "d1 = np.load('Data/bay/weather-20.npy')\n",
    "nan_indices = np.isnan(d1)\n",
    "nan_positions = np.where(nan_indices)\n",
    "print(\"\\nNaN值的位置:\",nan_positions)"
   ]
  },
  {
   "cell_type": "code",
   "execution_count": null,
   "id": "6f6be362-b432-4401-be24-2ad6cf4a2d4b",
   "metadata": {},
   "outputs": [],
   "source": []
  },
  {
   "cell_type": "code",
   "execution_count": null,
   "id": "416456c2-1d3c-42c1-964c-37dd7a2b2ebf",
   "metadata": {},
   "outputs": [],
   "source": []
  }
 ],
 "metadata": {
  "kernelspec": {
   "display_name": "Python 3 (ipykernel)",
   "language": "python",
   "name": "python3"
  },
  "language_info": {
   "codemirror_mode": {
    "name": "ipython",
    "version": 3
   },
   "file_extension": ".py",
   "mimetype": "text/x-python",
   "name": "python",
   "nbconvert_exporter": "python",
   "pygments_lexer": "ipython3",
   "version": "3.12.3"
  }
 },
 "nbformat": 4,
 "nbformat_minor": 5
}
