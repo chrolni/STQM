{
 "cells": [
  {
   "cell_type": "code",
   "execution_count": null,
   "id": "2bdb42b8-cdc5-4417-b35a-8556dad6e874",
   "metadata": {},
   "outputs": [
    {
     "name": "stdout",
     "output_type": "stream",
     "text": [
      "new_d_loc: [np.int64(303), np.int64(96), np.int64(294), np.int64(298), np.int64(108), np.int64(299), np.int64(144), np.int64(95), np.int64(75), np.int64(114), np.int64(81), np.int64(302), np.int64(1), np.int64(22), np.int64(297), np.int64(106), np.int64(123), np.int64(32), np.int64(85), np.int64(7), np.int64(235), np.int64(12), np.int64(301), np.int64(15), np.int64(300), np.int64(112), np.int64(129), np.int64(35), np.int64(69), np.int64(285), np.int64(234), np.int64(71), np.int64(44), np.int64(158), np.int64(94), np.int64(283), np.int64(280), np.int64(286), np.int64(5), np.int64(284), np.int64(292), np.int64(281), np.int64(66), np.int64(92), np.int64(288), np.int64(104), np.int64(193), np.int64(21), np.int64(290), np.int64(219), np.int64(57), np.int64(36), np.int64(182), np.int64(215), np.int64(156), np.int64(188), np.int64(90), np.int64(118), np.int64(0), np.int64(176), np.int64(241), np.int64(107), np.int64(217), np.int64(186), np.int64(54), np.int64(242), np.int64(247), np.int64(131), np.int64(211), np.int64(185), np.int64(208), np.int64(187), np.int64(213), np.int64(109), np.int64(76), np.int64(178), np.int64(103), np.int64(121), np.int64(126), np.int64(51), np.int64(26), np.int64(214), np.int64(209), np.int64(220), np.int64(84), np.int64(243), np.int64(212), np.int64(18), np.int64(82), np.int64(218), np.int64(175), np.int64(177), np.int64(61), np.int64(43), np.int64(310), np.int64(87), np.int64(197), np.int64(183), np.int64(125), np.int64(238), np.int64(59), np.int64(249), np.int64(236), np.int64(308), np.int64(170), np.int64(237), np.int64(160), np.int64(139), np.int64(161), np.int64(228), np.int64(60), np.int64(147), np.int64(226), np.int64(305), np.int64(172), np.int64(11), np.int64(246), np.int64(229), np.int64(227), np.int64(231), np.int64(141), np.int64(113), np.int64(148), np.int64(195), np.int64(230), np.int64(312), np.int64(8), np.int64(169), np.int64(42), np.int64(190), np.int64(196), np.int64(152), np.int64(239), np.int64(191), np.int64(240), np.int64(3), np.int64(65), np.int64(250), np.int64(162), np.int64(136), np.int64(222), np.int64(204), np.int64(151), np.int64(221), np.int64(200), np.int64(73), np.int64(68), np.int64(134), np.int64(307), np.int64(163), np.int64(199), np.int64(102), np.int64(202), np.int64(72), np.int64(2), np.int64(251), np.int64(164), np.int64(318), np.int64(150), np.int64(77), np.int64(171), np.int64(317), np.int64(304), np.int64(110), np.int64(180), np.int64(315), np.int64(58), np.int64(225), np.int64(149), np.int64(165), np.int64(4), np.int64(153), np.int64(313), np.int64(20), np.int64(157), np.int64(128), np.int64(154), np.int64(6), np.int64(205), np.int64(206), np.int64(159), np.int64(201), np.int64(262), np.int64(256), np.int64(255), np.int64(254), np.int64(264), np.int64(257), np.int64(263), np.int64(261), np.int64(267), np.int64(266), np.int64(265), np.int64(278), np.int64(273), np.int64(269), np.int64(274), np.int64(271), np.int64(277), np.int64(272), np.int64(279), np.int64(268), np.int64(23), np.int64(64), np.int64(93), np.int64(80), np.int64(14), np.int64(45), np.int64(138), np.int64(245), np.int64(17), np.int64(133), np.int64(79), np.int64(49), np.int64(244), np.int64(100), np.int64(39), np.int64(86), np.int64(232), np.int64(62), np.int64(46), np.int64(10), np.int64(50), np.int64(115)]\n",
      "new_output_im2 shape: (5760, 95)\n",
      "new_true2 shape: (5760, 95)\n",
      "RMSE: 2.85\n",
      "MAE: 1.32\n",
      "MAPE: 2.76\n"
     ]
    }
   ],
   "source": [
    "# 重新计算指标\n",
    "import numpy as np\n",
    "import matplotlib.pyplot as plt\n",
    "from scipy.io import loadmat\n",
    "import time\n",
    "import pandas as pd\n",
    "import random\n",
    "# 设置随机种子，确保结果可重复\n",
    "random_seed = 42  # 你可以选择任何数字作为种子\n",
    "random.seed(random_seed)\n",
    "\n",
    "# Set random seed for reproducibility\n",
    "np.random.seed(42)\n",
    "\n",
    "# 随机选择m个不重复的站点\n",
    "m = 0.7   #-------------------------------------------->\n",
    "lat_lon = pd.read_csv('Data/bay/sensors.csv',index_col=False)\n",
    "segment_counts = lat_lon['segment'].value_counts()\n",
    "segment_sample_counts = np.round(m * segment_counts).astype(int)\n",
    "# 初始化一个空列表来存储选择的列索引\n",
    "selected_columns = []\n",
    "\n",
    "# 遍历每种 segment 类型\n",
    "for segment, count in segment_sample_counts.items():\n",
    "    # 获取该 segment 类型的站点索引\n",
    "    segment_indices = lat_lon[lat_lon['segment'] == segment].index.tolist()\n",
    "    # 随机选择 count 个站点索引\n",
    "    selected_indices = np.random.choice(segment_indices, size=count, replace=False)\n",
    "    # 将选择的索引添加到列表中\n",
    "    selected_columns.extend(selected_indices)\n",
    "\n",
    "# 将选择的列索引转换为 numpy 数组\n",
    "new_d_loc = selected_columns\n",
    "print('new_d_loc:',new_d_loc)\n",
    "\n",
    "\n",
    "N_I405 = np.load('Data/bay/pems-bay-20.npy')\n",
    "N_I405 = N_I405[:,:288*10*2] \n",
    "true2 = N_I405\n",
    "output_im2 = np.load('Result/loop_07.npy')\n",
    "output_im2 = output_im2.reshape(5760,319)\n",
    "\n",
    "# 创建一个新的二维数组，其列数为原数组列数减去 d_loc 列表的长度\n",
    "new_output_im2 = np.delete(output_im2, new_d_loc, axis=1)\n",
    "new_true2 = np.delete(true2, new_d_loc, axis=1)\n",
    "print('new_output_im2 shape:',new_output_im2.shape)\n",
    "print('new_true2 shape:',new_true2.shape)\n",
    "\n",
    "# ---------------------- 计算指标 ---------------------\n",
    "from sklearn import metrics\n",
    "\n",
    "def mape(y_true, y_pred):\n",
    "    return np.mean(np.abs((y_pred - y_true) / y_true)) * 100\n",
    "\n",
    "# MSE\n",
    "#     print(metrics.mean_squared_error(true2[i:,:], output_im2[i:,:])) \n",
    "# RMSE\n",
    "print(\"RMSE:\",round(np.sqrt(metrics.mean_squared_error(new_true2[288*17:,:], new_output_im2[288*17:,:])),2))\n",
    "# MAE\n",
    "print(\"MAE:\",round(metrics.mean_absolute_error(new_true2[288*17:,:], new_output_im2[288*17:,:]),2)) \n",
    "# MAPE\n",
    "print(\"MAPE:\",round(mape(np.array(new_true2[288*17:,:].flatten()), np.array(new_output_im2[288*17:,:].flatten())),2)) \n",
    "# ----------------------   end   ---------------------"
   ]
  },
  {
   "cell_type": "code",
   "execution_count": null,
   "id": "109d0d31-034b-477c-b1e4-2124f4769138",
   "metadata": {},
   "outputs": [],
   "source": []
  }
 ],
 "metadata": {
  "kernelspec": {
   "display_name": "Python 3 (ipykernel)",
   "language": "python",
   "name": "python3"
  },
  "language_info": {
   "codemirror_mode": {
    "name": "ipython",
    "version": 3
   },
   "file_extension": ".py",
   "mimetype": "text/x-python",
   "name": "python",
   "nbconvert_exporter": "python",
   "pygments_lexer": "ipython3",
   "version": "3.12.3"
  }
 },
 "nbformat": 4,
 "nbformat_minor": 5
}
